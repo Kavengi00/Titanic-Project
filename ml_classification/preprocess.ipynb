{
 "cells": [
  {
   "cell_type": "markdown",
   "metadata": {},
   "source": [
    "## Import Libraries"
   ]
  },
  {
   "cell_type": "code",
   "execution_count": 1,
   "metadata": {},
   "outputs": [],
   "source": [
    "import pandas as pd \n",
    "import numpy as np\n",
    "import shap\n",
    "import pickle\n",
    "%matplotlib inline \n",
    "\n",
    "from sklearn.feature_selection import mutual_info_classif\n",
    "from sklearn.metrics import f1_score, accuracy_score\n",
    "from sklearn.model_selection import GridSearchCV, cross_val_score\n",
    "from sklearn.linear_model import LogisticRegression\n",
    "from sklearn.tree import DecisionTreeClassifier\n",
    "from sklearn.ensemble import RandomForestClassifier, GradientBoostingClassifier, AdaBoostClassifier, VotingClassifier\n",
    "from sklearn.neighbors import KNeighborsClassifier\n",
    "from sklearn.naive_bayes import GaussianNB\n",
    "from sklearn.preprocessing import StandardScaler\n",
    "from xgboost import XGBClassifier\n",
    "from sklearn.model_selection import KFold\n",
    "from sklearn.preprocessing import label_binarize\n",
    "from sklearn.pipeline import make_pipeline\n",
    "from imblearn.over_sampling import SMOTE\n",
    "from imblearn.pipeline import Pipeline "
   ]
  },
  {
   "cell_type": "code",
   "execution_count": 2,
   "metadata": {},
   "outputs": [],
   "source": [
    "import matplotlib.pyplot as plt\n",
    "import seaborn as sns\n",
    "\n",
    "def set_plotting_style():\n",
    "    # Set the default style\n",
    "    sns.set_style(\"darkgrid\")\n",
    "    \n",
    "    # Set the size of all parameters\n",
    "    plt.rcParams['figure.figsize'] = (8, 6)  # Set the figure size\n",
    "    plt.rcParams['figure.dpi'] = 80  # Set the figure dpi\n",
    "    plt.rcParams['font.size'] = 12  # Set the font size\n",
    "    plt.rcParams['legend.fontsize'] = 'medium'  # Set the legend font size\n",
    "    plt.rcParams['figure.titlesize'] = 'large'  # Set the figure title size\n",
    "    plt.rcParams['axes.titlesize'] = 'large'  # Set the axes title size\n",
    "    plt.rcParams['axes.labelsize'] = 'medium'  # Set the axes label size\n",
    "    plt.rcParams['xtick.labelsize'] = 'medium'  # Set the xticks label size\n",
    "    plt.rcParams['ytick.labelsize'] = 'medium'  # Set the yticks label size"
   ]
  },
  {
   "cell_type": "markdown",
   "metadata": {},
   "source": [
    "## Model Engineering"
   ]
  },
  {
   "cell_type": "markdown",
   "metadata": {},
   "source": [
    "### Data Preprocessing"
   ]
  },
  {
   "cell_type": "code",
   "execution_count": 3,
   "metadata": {},
   "outputs": [],
   "source": [
    "# Load the cleaned train data\n",
    "train_cn = pd.read_csv(r\"C:\\Users\\ADMIN\\Desktop\\ML_Project\\ML_Project\\datasets\\clean\\train_cleaned.csv\")\n",
    "\n",
    "# Load the cleaned test data\n",
    "test_cn = pd.read_csv(r'C:\\Users\\ADMIN\\Desktop\\ML_Project\\ML_Project\\datasets\\clean\\test_cleaned.csv')"
   ]
  },
  {
   "cell_type": "code",
   "execution_count": 4,
   "metadata": {},
   "outputs": [
    {
     "data": {
      "text/html": [
       "<div>\n",
       "<style scoped>\n",
       "    .dataframe tbody tr th:only-of-type {\n",
       "        vertical-align: middle;\n",
       "    }\n",
       "\n",
       "    .dataframe tbody tr th {\n",
       "        vertical-align: top;\n",
       "    }\n",
       "\n",
       "    .dataframe thead th {\n",
       "        text-align: right;\n",
       "    }\n",
       "</style>\n",
       "<table border=\"1\" class=\"dataframe\">\n",
       "  <thead>\n",
       "    <tr style=\"text-align: right;\">\n",
       "      <th></th>\n",
       "      <th>Survived</th>\n",
       "      <th>Pclass</th>\n",
       "      <th>Sex</th>\n",
       "      <th>Age</th>\n",
       "      <th>SibSp</th>\n",
       "      <th>Parch</th>\n",
       "      <th>Fare</th>\n",
       "      <th>Embarked</th>\n",
       "    </tr>\n",
       "  </thead>\n",
       "  <tbody>\n",
       "    <tr>\n",
       "      <th>0</th>\n",
       "      <td>0</td>\n",
       "      <td>3</td>\n",
       "      <td>male</td>\n",
       "      <td>22.0</td>\n",
       "      <td>1</td>\n",
       "      <td>0</td>\n",
       "      <td>7.2500</td>\n",
       "      <td>S</td>\n",
       "    </tr>\n",
       "    <tr>\n",
       "      <th>1</th>\n",
       "      <td>1</td>\n",
       "      <td>1</td>\n",
       "      <td>female</td>\n",
       "      <td>38.0</td>\n",
       "      <td>1</td>\n",
       "      <td>0</td>\n",
       "      <td>71.2833</td>\n",
       "      <td>C</td>\n",
       "    </tr>\n",
       "    <tr>\n",
       "      <th>2</th>\n",
       "      <td>1</td>\n",
       "      <td>3</td>\n",
       "      <td>female</td>\n",
       "      <td>26.0</td>\n",
       "      <td>0</td>\n",
       "      <td>0</td>\n",
       "      <td>7.9250</td>\n",
       "      <td>S</td>\n",
       "    </tr>\n",
       "    <tr>\n",
       "      <th>3</th>\n",
       "      <td>1</td>\n",
       "      <td>1</td>\n",
       "      <td>female</td>\n",
       "      <td>35.0</td>\n",
       "      <td>1</td>\n",
       "      <td>0</td>\n",
       "      <td>53.1000</td>\n",
       "      <td>S</td>\n",
       "    </tr>\n",
       "    <tr>\n",
       "      <th>4</th>\n",
       "      <td>0</td>\n",
       "      <td>3</td>\n",
       "      <td>male</td>\n",
       "      <td>35.0</td>\n",
       "      <td>0</td>\n",
       "      <td>0</td>\n",
       "      <td>8.0500</td>\n",
       "      <td>S</td>\n",
       "    </tr>\n",
       "  </tbody>\n",
       "</table>\n",
       "</div>"
      ],
      "text/plain": [
       "   Survived  Pclass     Sex   Age  SibSp  Parch     Fare Embarked\n",
       "0         0       3    male  22.0      1      0   7.2500        S\n",
       "1         1       1  female  38.0      1      0  71.2833        C\n",
       "2         1       3  female  26.0      0      0   7.9250        S\n",
       "3         1       1  female  35.0      1      0  53.1000        S\n",
       "4         0       3    male  35.0      0      0   8.0500        S"
      ]
     },
     "execution_count": 4,
     "metadata": {},
     "output_type": "execute_result"
    }
   ],
   "source": [
    "train_cn.head()"
   ]
  },
  {
   "cell_type": "code",
   "execution_count": 5,
   "metadata": {},
   "outputs": [
    {
     "data": {
      "text/plain": [
       "Survived    0\n",
       "Pclass      0\n",
       "Sex         0\n",
       "Age         0\n",
       "SibSp       0\n",
       "Parch       0\n",
       "Fare        0\n",
       "Embarked    0\n",
       "dtype: int64"
      ]
     },
     "execution_count": 5,
     "metadata": {},
     "output_type": "execute_result"
    }
   ],
   "source": [
    "train_cn.isnull().sum()"
   ]
  },
  {
   "cell_type": "code",
   "execution_count": 6,
   "metadata": {},
   "outputs": [],
   "source": [
    "# Define a mapping from sex categories to numbers\n",
    "mapping = {'male': 0, 'female': 1}\n",
    "\n",
    "# Map 'sex' column in train set\n",
    "train_cn['Sex'] = train_cn['Sex'].map(mapping)\n",
    "\n",
    "# Map 'sex' column in test set\n",
    "test_cn['Sex'] = test_cn['Sex'].map(mapping)"
   ]
  },
  {
   "cell_type": "code",
   "execution_count": 7,
   "metadata": {},
   "outputs": [
    {
     "data": {
      "text/html": [
       "<div>\n",
       "<style scoped>\n",
       "    .dataframe tbody tr th:only-of-type {\n",
       "        vertical-align: middle;\n",
       "    }\n",
       "\n",
       "    .dataframe tbody tr th {\n",
       "        vertical-align: top;\n",
       "    }\n",
       "\n",
       "    .dataframe thead th {\n",
       "        text-align: right;\n",
       "    }\n",
       "</style>\n",
       "<table border=\"1\" class=\"dataframe\">\n",
       "  <thead>\n",
       "    <tr style=\"text-align: right;\">\n",
       "      <th></th>\n",
       "      <th>Survived</th>\n",
       "      <th>Pclass</th>\n",
       "      <th>Sex</th>\n",
       "      <th>Age</th>\n",
       "      <th>SibSp</th>\n",
       "      <th>Parch</th>\n",
       "      <th>Fare</th>\n",
       "      <th>Embarked</th>\n",
       "    </tr>\n",
       "  </thead>\n",
       "  <tbody>\n",
       "    <tr>\n",
       "      <th>0</th>\n",
       "      <td>0</td>\n",
       "      <td>3</td>\n",
       "      <td>0</td>\n",
       "      <td>22.0</td>\n",
       "      <td>1</td>\n",
       "      <td>0</td>\n",
       "      <td>7.2500</td>\n",
       "      <td>0</td>\n",
       "    </tr>\n",
       "    <tr>\n",
       "      <th>1</th>\n",
       "      <td>1</td>\n",
       "      <td>1</td>\n",
       "      <td>1</td>\n",
       "      <td>38.0</td>\n",
       "      <td>1</td>\n",
       "      <td>0</td>\n",
       "      <td>71.2833</td>\n",
       "      <td>1</td>\n",
       "    </tr>\n",
       "    <tr>\n",
       "      <th>2</th>\n",
       "      <td>1</td>\n",
       "      <td>3</td>\n",
       "      <td>1</td>\n",
       "      <td>26.0</td>\n",
       "      <td>0</td>\n",
       "      <td>0</td>\n",
       "      <td>7.9250</td>\n",
       "      <td>0</td>\n",
       "    </tr>\n",
       "    <tr>\n",
       "      <th>3</th>\n",
       "      <td>1</td>\n",
       "      <td>1</td>\n",
       "      <td>1</td>\n",
       "      <td>35.0</td>\n",
       "      <td>1</td>\n",
       "      <td>0</td>\n",
       "      <td>53.1000</td>\n",
       "      <td>0</td>\n",
       "    </tr>\n",
       "    <tr>\n",
       "      <th>4</th>\n",
       "      <td>0</td>\n",
       "      <td>3</td>\n",
       "      <td>0</td>\n",
       "      <td>35.0</td>\n",
       "      <td>0</td>\n",
       "      <td>0</td>\n",
       "      <td>8.0500</td>\n",
       "      <td>0</td>\n",
       "    </tr>\n",
       "  </tbody>\n",
       "</table>\n",
       "</div>"
      ],
      "text/plain": [
       "   Survived  Pclass  Sex   Age  SibSp  Parch     Fare  Embarked\n",
       "0         0       3    0  22.0      1      0   7.2500         0\n",
       "1         1       1    1  38.0      1      0  71.2833         1\n",
       "2         1       3    1  26.0      0      0   7.9250         0\n",
       "3         1       1    1  35.0      1      0  53.1000         0\n",
       "4         0       3    0  35.0      0      0   8.0500         0"
      ]
     },
     "execution_count": 7,
     "metadata": {},
     "output_type": "execute_result"
    }
   ],
   "source": [
    "# Define a mapping from embarked categories to numbers\n",
    "embarked_mapping = {'S': 0, 'C': 1, 'Q': 2}\n",
    "\n",
    "# Map 'Embarked' column in train set\n",
    "train_cn['Embarked'] = train_cn['Embarked'].map(embarked_mapping)\n",
    "\n",
    "# Map 'Embarked' column in test set\n",
    "test_cn['Embarked'] = test_cn['Embarked'].map(embarked_mapping)\n",
    "train_cn.head()"
   ]
  },
  {
   "cell_type": "code",
   "execution_count": 8,
   "metadata": {},
   "outputs": [],
   "source": [
    "# Create the StandardScaler object\n",
    "scaler = StandardScaler()\n",
    "\n",
    "# Fit StandardScaler on the 'Fare' and 'Age' columns of the train set\n",
    "scaler.fit(train_cn[['Age', 'Fare']])  \n",
    "\n",
    "# Transform the 'Fare' and 'Age' columns of the train set\n",
    "train_cn[['Age', 'Fare']] = scaler.transform(train_cn[['Age', 'Fare']]) \n",
    "\n",
    "# Transform the 'Fare' and 'Age' columns of the test set\n",
    "test_cn[['Age', 'Fare']] = scaler.transform(test_cn[['Age', 'Fare']]) "
   ]
  },
  {
   "cell_type": "code",
   "execution_count": 9,
   "metadata": {},
   "outputs": [],
   "source": [
    "# Save the fitted StandardScaler to a pickle file\n",
    "with open('scaler.pkl', 'wb') as f:\n",
    "    pickle.dump(scaler, f)"
   ]
  },
  {
   "cell_type": "code",
   "execution_count": 10,
   "metadata": {},
   "outputs": [
    {
     "data": {
      "text/plain": [
       "((891, 7), (891,))"
      ]
     },
     "execution_count": 10,
     "metadata": {},
     "output_type": "execute_result"
    }
   ],
   "source": [
    "# Prepare the training data\n",
    "X_train = train_cn.drop('Survived', axis=1)\n",
    "y_train = train_cn['Survived']\n",
    "\n",
    "# Prepare the test data\n",
    "X_test = test_cn.drop('Survived', axis=1)\n",
    "y_test = test_cn['Survived']\n",
    "\n",
    "#Train shape\n",
    "X_train.shape, y_train.shape"
   ]
  },
  {
   "cell_type": "code",
   "execution_count": 11,
   "metadata": {},
   "outputs": [
    {
     "data": {
      "text/plain": [
       "((418, 7), (418,))"
      ]
     },
     "execution_count": 11,
     "metadata": {},
     "output_type": "execute_result"
    }
   ],
   "source": [
    "#Test set shape\n",
    "X_test.shape, y_test.shape"
   ]
  },
  {
   "cell_type": "markdown",
   "metadata": {},
   "source": [
    "### Feature Selection"
   ]
  },
  {
   "cell_type": "code",
   "execution_count": 12,
   "metadata": {},
   "outputs": [
    {
     "data": {
      "image/png": "[encoded data removed]",
      "text/plain": [
       "<Figure size 1000x600 with 1 Axes>"
      ]
     },
     "metadata": {},
     "output_type": "display_data"
    }
   ],
   "source": [
    "# Compute the mutual information between each feature and the target\n",
    "mutual_info = mutual_info_classif(X_train, y_train)\n",
    "\n",
    "# Create a DataFrame of features and their mutual information\n",
    "info_gain_df = pd.DataFrame({'Feature': X_train.columns, 'InfoGain': mutual_info})\n",
    "\n",
    "# Sort the DataFrame by InfoGain in descending order\n",
    "info_gain_df = info_gain_df.sort_values('InfoGain', ascending=False)\n",
    "\n",
    "# Plot the information gain of each feature\n",
    "plt.figure(figsize=(10, 6))\n",
    "plt.barh(info_gain_df['Feature'], info_gain_df['InfoGain'], color='b')\n",
    "plt.xlabel('Information Gain')\n",
    "plt.ylabel('Features')\n",
    "plt.title('Feature Selection based on Information Gain')\n",
    "plt.gca().invert_yaxis()  # Reverse the order of features\n",
    "plt.show()"
   ]
  },
  {
   "cell_type": "code",
   "execution_count": 13,
   "metadata": {},
   "outputs": [],
   "source": [
    "# Select the top 5 features\n",
    "top_6_features = info_gain_df['Feature'].head(6)\n",
    "\n",
    "# Filter X_train and X_test to only include the top 5 features\n",
    "X_train = X_train[top_6_features]\n",
    "X_test = X_test[top_6_features]"
   ]
  },
  {
   "cell_type": "markdown",
   "metadata": {},
   "source": [
    "# Select the top 5 features\n",
    "top_5_features = info_gain_df['Feature'].head(6)\n",
    "\n",
    "# Filter X_train and X_test to only include the top 5 features\n",
    "X_train = X_train[top_5_features]\n",
    "X_test = X_test[top_5_features]"
   ]
  },
  {
   "cell_type": "markdown",
   "metadata": {},
   "source": [
    "### Modeling"
   ]
  },
  {
   "cell_type": "markdown",
   "metadata": {},
   "source": [
    "#### Base Model"
   ]
  },
  {
   "cell_type": "code",
   "execution_count": 14,
   "metadata": {},
   "outputs": [
    {
     "name": "stdout",
     "output_type": "stream",
     "text": [
      "Baseline F1 score (5-fold CV):  0.787766708177667\n",
      "Baseline accuracy:  0.9066985645933014\n",
      "Baseline F1 score:  0.8828828828828829\n"
     ]
    }
   ],
   "source": [
    "# Initialize a SMOTE object\n",
    "smote = SMOTE(random_state=42)\n",
    "\n",
    "# Resample the training data\n",
    "X_train_res, y_train_res = smote.fit_resample(X_train, y_train)\n",
    "\n",
    "# Initialize a KFold object with shuffling\n",
    "kf = KFold(n_splits=5, shuffle=True, random_state=42)\n",
    "\n",
    "# Initialize a Logistic Regression model\n",
    "baseline_model = LogisticRegression()\n",
    "\n",
    "# Perform 5-fold cross-validation on the baseline model\n",
    "scores = cross_val_score(baseline_model, X_train_res, y_train_res, cv=kf)\n",
    "\n",
    "# Compute the mean F1 score\n",
    "baseline_f1_cv = scores.mean()\n",
    "\n",
    "print(\"Baseline F1 score (5-fold CV): \", baseline_f1_cv)\n",
    "\n",
    "# Fit the model to the resampled training data\n",
    "baseline_model.fit(X_train_res, y_train_res)\n",
    "\n",
    "# Predict the labels of the test set\n",
    "y_pred = baseline_model.predict(X_test)\n",
    "\n",
    "# Compute accuracy of the baseline model\n",
    "baseline_accuracy = accuracy_score(y_test, y_pred)\n",
    "\n",
    "print(\"Baseline accuracy: \", baseline_accuracy)\n",
    "\n",
    "# Compute F1 score of the baseline model\n",
    "baseline_f1 = f1_score(y_test, y_pred)\n",
    "\n",
    "print(\"Baseline F1 score: \", baseline_f1)"
   ]
  },
  {
   "cell_type": "code",
   "execution_count": 15,
   "metadata": {},
   "outputs": [],
   "source": [
    "# Define a function to create a pipeline for each model\n",
    "def make_pipeline(model):\n",
    "    return Pipeline([\n",
    "        ('smote', SMOTE(random_state=42)),\n",
    "        ('model', model)\n",
    "    ])"
   ]
  },
  {
   "cell_type": "code",
   "execution_count": 16,
   "metadata": {},
   "outputs": [
    {
     "name": "stdout",
     "output_type": "stream",
     "text": [
      "Best parameters:  {'model__leaf_size': 10, 'model__metric': 'manhattan', 'model__n_neighbors': 20, 'model__p': 1, 'model__weights': 'uniform'}\n",
      "Best cross-validation score:  0.8103195028560668\n",
      "F1 Score:  0.8231884057971015\n"
     ]
    }
   ],
   "source": [
    "# Define your model\n",
    "model = make_pipeline(KNeighborsClassifier())\n",
    "\n",
    "# Define your parameter grid\n",
    "param_grid = {'model__n_neighbors': range(1, 30),\n",
    "              'model__weights': ['uniform', 'distance'],\n",
    "              'model__metric': ['euclidean', 'manhattan'],\n",
    "              'model__p': [1, 2],\n",
    "              'model__leaf_size': [10, 20, 30]}\n",
    "\n",
    "# Define your KFold cross-validator\n",
    "kfold = KFold(n_splits=5, shuffle=True, random_state=42)\n",
    "\n",
    "# Create a GridSearchCV object\n",
    "grid_search = GridSearchCV(model, param_grid, cv=kfold)\n",
    "\n",
    "# Fit the GridSearchCV object to the data\n",
    "grid_search.fit(X_train, y_train)\n",
    "\n",
    "# Print the best parameters\n",
    "print(\"Best parameters: \", grid_search.best_params_)\n",
    "\n",
    "# Print the best score\n",
    "print(\"Best cross-validation score: \", grid_search.best_score_)\n",
    "\n",
    "# Predict the labels of the test set\n",
    "y_pred = grid_search.predict(X_test)\n",
    "\n",
    "# Compute F1 score\n",
    "f1 = f1_score(y_test, y_pred)\n",
    "print(\"F1 Score: \", f1)"
   ]
  },
  {
   "cell_type": "code",
   "execution_count": 17,
   "metadata": {},
   "outputs": [
    {
     "name": "stdout",
     "output_type": "stream",
     "text": [
      "Best parameters:  {'model__var_smoothing': 1e-09}\n",
      "Best cross-validation score:  0.7687640449438202\n",
      "F1 Score:  0.863095238095238\n"
     ]
    }
   ],
   "source": [
    "# Define your model\n",
    "model = make_pipeline(GaussianNB())\n",
    "\n",
    "# Define your parameter grid\n",
    "param_grid = {'model__var_smoothing': [1e-9, 1e-8, 1e-7, 1e-6, 1e-5]}\n",
    "\n",
    "# Define your KFold cross-validator\n",
    "kfold = KFold(n_splits=10, shuffle=True, random_state=42)\n",
    "\n",
    "# Create a GridSearchCV object\n",
    "grid_search = GridSearchCV(model, param_grid, cv=kfold)\n",
    "\n",
    "# Fit the GridSearchCV object to the data\n",
    "grid_search.fit(X_train, y_train)\n",
    "\n",
    "# Print the best parameters\n",
    "print(\"Best parameters: \", grid_search.best_params_)\n",
    "\n",
    "# Print the best score\n",
    "print(\"Best cross-validation score: \", grid_search.best_score_)\n",
    "\n",
    "# Predict the labels of the test set\n",
    "y_pred = grid_search.predict(X_test)\n",
    "\n",
    "# Compute F1 score\n",
    "f1 = f1_score(y_test, y_pred)\n",
    "print(\"F1 Score: \", f1)"
   ]
  },
  {
   "cell_type": "code",
   "execution_count": 18,
   "metadata": {},
   "outputs": [
    {
     "name": "stdout",
     "output_type": "stream",
     "text": [
      "Best parameters:  {'model__bootstrap': True, 'model__criterion': 'gini', 'model__max_depth': 15, 'model__min_samples_leaf': 1, 'model__min_samples_split': 10, 'model__n_estimators': 100}\n",
      "Best cross-validation score:  0.8339150084740442\n",
      "F1 Score:  0.7987012987012987\n"
     ]
    }
   ],
   "source": [
    "# Define your model\n",
    "model = make_pipeline(RandomForestClassifier())\n",
    "\n",
    "# Define your parameter grid\n",
    "param_grid = {'model__n_estimators': [50, 100, 200],\n",
    "              'model__max_depth': [None, 5, 10, 15],\n",
    "              'model__min_samples_split': [2, 5, 10],\n",
    "              'model__min_samples_leaf': [1, 2, 4],\n",
    "              'model__bootstrap': [True, False],\n",
    "              'model__criterion': ['gini', 'entropy']}\n",
    "\n",
    "# Define your KFold cross-validator\n",
    "kfold = KFold(n_splits=5, shuffle=True, random_state=42)\n",
    "\n",
    "# Create a GridSearchCV object\n",
    "grid_search = GridSearchCV(model, param_grid, cv=kfold)\n",
    "\n",
    "# Fit the GridSearchCV object to the data\n",
    "grid_search.fit(X_train, y_train)\n",
    "\n",
    "# Print the best parameters\n",
    "print(\"Best parameters: \", grid_search.best_params_)\n",
    "\n",
    "# Print the best score\n",
    "print(\"Best cross-validation score: \", grid_search.best_score_)\n",
    "\n",
    "# Predict the labels of the test set\n",
    "y_pred = grid_search.predict(X_test)\n",
    "\n",
    "# Compute F1 score\n",
    "f1 = f1_score(y_test, y_pred)\n",
    "print(\"F1 Score: \", f1)"
   ]
  },
  {
   "cell_type": "code",
   "execution_count": 20,
   "metadata": {},
   "outputs": [
    {
     "name": "stdout",
     "output_type": "stream",
     "text": [
      "Best parameters:  {'model__learning_rate': 0.1, 'model__max_depth': 4, 'model__max_features': 'sqrt', 'model__min_samples_leaf': 1, 'model__min_samples_split': 10, 'model__n_estimators': 200, 'model__subsample': 0.5}\n",
      "Best cross-validation score:  0.8361559224154165\n",
      "F1 Score:  0.7935483870967742\n"
     ]
    }
   ],
   "source": [
    "# Define your model\n",
    "model = make_pipeline(GradientBoostingClassifier())\n",
    "\n",
    "# Define your parameter grid\n",
    "param_grid = {'model__n_estimators': [10, 50, 100, 200], \n",
    "              'model__learning_rate': [0.001, 0.01, 0.1, 1], \n",
    "              'model__max_depth': [3, 4, 5], \n",
    "              'model__min_samples_split': [2, 5, 10], \n",
    "              'model__min_samples_leaf': [1, 2, 4], \n",
    "              'model__subsample': [0.5, 0.7, 1], \n",
    "              'model__max_features': ['sqrt', 'log2']}\n",
    "\n",
    "# Define your KFold cross-validator\n",
    "kfold = KFold(n_splits=5, shuffle=True, random_state=42)\n",
    "\n",
    "# Create a GridSearchCV object\n",
    "grid_search = GridSearchCV(model, param_grid, cv=kfold)\n",
    "\n",
    "# Fit the GridSearchCV object to the data\n",
    "grid_search.fit(X_train, y_train)\n",
    "\n",
    "# Print the best parameters\n",
    "print(\"Best parameters: \", grid_search.best_params_)\n",
    "\n",
    "# Print the best score\n",
    "print(\"Best cross-validation score: \", grid_search.best_score_)\n",
    "\n",
    "# Predict the labels of the test set\n",
    "y_pred = grid_search.predict(X_test)\n",
    "\n",
    "# Compute F1 score\n",
    "f1 = f1_score(y_test, y_pred)\n",
    "print(\"F1 Score: \", f1)"
   ]
  },
  {
   "cell_type": "code",
   "execution_count": 21,
   "metadata": {},
   "outputs": [
    {
     "name": "stdout",
     "output_type": "stream",
     "text": [
      "Best parameters:  {'model__algorithm': 'SAMME', 'model__estimator': DecisionTreeClassifier(max_depth=2), 'model__estimator__max_depth': 2, 'model__learning_rate': 0.1, 'model__n_estimators': 50}\n",
      "Best cross-validation score:  0.8047078023978408\n",
      "F1 Score:  0.8955223880597014\n"
     ]
    }
   ],
   "source": [
    "# Define your model\n",
    "model = make_pipeline(AdaBoostClassifier())\n",
    "\n",
    "# Define your parameter grid\n",
    "param_grid = {'model__n_estimators': [50, 100, 200],\n",
    "              'model__learning_rate': [0.01, 0.1, 1],\n",
    "              'model__algorithm': ['SAMME', 'SAMME'],\n",
    "              'model__estimator': [DecisionTreeClassifier(max_depth=1), DecisionTreeClassifier(max_depth=2)],\n",
    "              'model__estimator__max_depth': [1, 2]}\n",
    "\n",
    "# Define your KFold cross-validator\n",
    "kfold = KFold(n_splits=5, shuffle=True, random_state=42)\n",
    "\n",
    "# Create a GridSearchCV object\n",
    "grid_search = GridSearchCV(model, param_grid, cv=kfold)\n",
    "\n",
    "# Fit the GridSearchCV object to the data\n",
    "grid_search.fit(X_train, y_train)\n",
    "\n",
    "# Print the best parameters\n",
    "print(\"Best parameters: \", grid_search.best_params_)\n",
    "\n",
    "# Print the best score\n",
    "print(\"Best cross-validation score: \", grid_search.best_score_)\n",
    "\n",
    "# Predict the labels of the test set\n",
    "y_pred = grid_search.predict(X_test)\n",
    "\n",
    "# Compute F1 score\n",
    "f1 = f1_score(y_test, y_pred)\n",
    "print(\"F1 Score: \", f1)"
   ]
  },
  {
   "cell_type": "code",
   "execution_count": 22,
   "metadata": {},
   "outputs": [
    {
     "name": "stdout",
     "output_type": "stream",
     "text": [
      "Best parameters:  {'model__criterion': 'gini', 'model__max_depth': 15, 'model__max_features': 'sqrt', 'model__min_samples_leaf': 4, 'model__min_samples_split': 10}\n",
      "Best cross-validation score:  0.8092461239093591\n",
      "F1 Score:  0.7628865979381443\n"
     ]
    }
   ],
   "source": [
    "# Define your model\n",
    "model = make_pipeline(DecisionTreeClassifier())\n",
    "\n",
    "# Define your parameter grid\n",
    "param_grid = {'model__max_depth': [None, 5, 10, 15],\n",
    "              'model__min_samples_split': [2, 5, 10],\n",
    "              'model__min_samples_leaf': [1, 2, 4],\n",
    "              'model__max_features': ['sqrt', 'log2'],\n",
    "              'model__criterion': ['gini', 'entropy']}\n",
    "\n",
    "# Define your KFold cross-validator\n",
    "kfold = KFold(n_splits=5, shuffle=True, random_state=42)\n",
    "\n",
    "# Create a GridSearchCV object\n",
    "grid_search = GridSearchCV(model, param_grid, cv=kfold)\n",
    "\n",
    "# Fit the GridSearchCV object to the data\n",
    "grid_search.fit(X_train, y_train)\n",
    "\n",
    "# Print the best parameters\n",
    "print(\"Best parameters: \", grid_search.best_params_)\n",
    "\n",
    "# Print the best score\n",
    "print(\"Best cross-validation score: \", grid_search.best_score_)\n",
    "\n",
    "# Predict the labels of the test set\n",
    "y_pred = grid_search.predict(X_test)\n",
    "\n",
    "# Compute F1 score\n",
    "f1 = f1_score(y_test, y_pred)\n",
    "print(\"F1 Score: \", f1)\n",
    "\n"
   ]
  },
  {
   "cell_type": "code",
   "execution_count": 23,
   "metadata": {},
   "outputs": [
    {
     "name": "stdout",
     "output_type": "stream",
     "text": [
      "Best parameters:  {'model__colsample_bytree': 0.8, 'model__gamma': 0, 'model__learning_rate': 0.1, 'model__max_depth': 10, 'model__min_child_weight': 5, 'model__n_estimators': 200, 'model__subsample': 1.0}\n",
      "Best cross-validation score:  0.835044881049526\n",
      "F1 Score:  0.7820512820512822\n"
     ]
    }
   ],
   "source": [
    "# Define your model\n",
    "model = make_pipeline(XGBClassifier())\n",
    "\n",
    "# Define your parameter grid\n",
    "param_grid = {'model__n_estimators': [50, 100, 200],\n",
    "              'model__learning_rate': [0.01, 0.1, 1, 10],\n",
    "              'model__max_depth': [3, 5, 10],\n",
    "              'model__min_child_weight': [1, 3, 5],\n",
    "              'model__gamma': [0, 0.1, 0.5],\n",
    "              'model__subsample': [0.8, 1.0],\n",
    "              'model__colsample_bytree': [0.8, 1.0]}\n",
    "\n",
    "# Define your KFold cross-validator\n",
    "kfold = KFold(n_splits=5, shuffle=True, random_state=42)\n",
    "\n",
    "# Create a GridSearchCV object\n",
    "grid_search = GridSearchCV(model, param_grid, cv=kfold)\n",
    "\n",
    "# Fit the GridSearchCV object to the data\n",
    "grid_search.fit(X_train, y_train)\n",
    "\n",
    "# Print the best parameters\n",
    "print(\"Best parameters: \", grid_search.best_params_)\n",
    "\n",
    "# Print the best score\n",
    "print(\"Best cross-validation score: \", grid_search.best_score_)\n",
    "\n",
    "# Predict the labels of the test set\n",
    "y_pred = grid_search.predict(X_test)\n",
    "\n",
    "# Compute F1 score\n",
    "f1 = f1_score(y_test, y_pred)\n",
    "print(\"F1 Score: \", f1)"
   ]
  },
  {
   "cell_type": "code",
   "execution_count": 24,
   "metadata": {},
   "outputs": [
    {
     "name": "stdout",
     "output_type": "stream",
     "text": [
      "Best parameters:  {'ab__n_estimators': 100, 'gb__n_estimators': 50, 'rf__n_estimators': 100}\n",
      "Best cross-validation score:  0.8361684765551441\n",
      "F1 Score:  0.8194444444444444\n"
     ]
    }
   ],
   "source": [
    "#Define your base model\n",
    "model1 = RandomForestClassifier()\n",
    "model2 = GradientBoostingClassifier()\n",
    "model3 = AdaBoostClassifier()\n",
    "\n",
    "# Define your VotingClassifier model\n",
    "model = VotingClassifier(estimators=[('rf', model1), ('gb', model2), ('ab', model3)], voting='soft')\n",
    "\n",
    "# Define your parameter grid\n",
    "param_grid = {'rf__n_estimators': [50, 100, 200],\n",
    "              'gb__n_estimators': [50, 100, 200],\n",
    "              'ab__n_estimators': [50, 100, 200]}\n",
    "\n",
    "# Define your KFold cross-validator\n",
    "kfold = KFold(n_splits=5, shuffle=True, random_state=42)\n",
    "\n",
    "# Create a GridSearchCV object\n",
    "grid_search = GridSearchCV(model, param_grid, cv=5)\n",
    "\n",
    "# Fit the GridSearchCV object to the data\n",
    "grid_search.fit(X_train, y_train)\n",
    "\n",
    "# Print the best parameters\n",
    "print(\"Best parameters: \", grid_search.best_params_)\n",
    "\n",
    "# Print the best score\n",
    "print(\"Best cross-validation score: \", grid_search.best_score_)\n",
    "\n",
    "# Predict the labels of the test set\n",
    "y_pred = grid_search.predict(X_test)\n",
    "\n",
    "# Compute F1 score\n",
    "f1 = f1_score(y_test, y_pred)\n",
    "print(\"F1 Score: \", f1)"
   ]
  },
  {
   "cell_type": "markdown",
   "metadata": {},
   "source": [
    "# Model Interpretability "
   ]
  },
  {
   "cell_type": "markdown",
   "metadata": {},
   "source": [
    "The best model is AdaboostClassifier\n"
   ]
  },
  {
   "cell_type": "code",
   "execution_count": 14,
   "metadata": {},
   "outputs": [
    {
     "data": {
      "image/png": "[encoded data removed]",
      "text/plain": [
       "<Figure size 1200x800 with 1 Axes>"
      ]
     },
     "metadata": {},
     "output_type": "display_data"
    }
   ],
   "source": [
    "# Initialize a SMOTE object\n",
    "smote = SMOTE()\n",
    "\n",
    "# Resample the training data\n",
    "X_train_res, y_train_res = smote.fit_resample(X_train, y_train)\n",
    "\n",
    "# Initialize a DecisionTreeClassifier as the base estimator\n",
    "base_estimator = DecisionTreeClassifier(max_depth=2)\n",
    "\n",
    "# Initialize an AdaBoost classifier\n",
    "best_model = AdaBoostClassifier(estimator=base_estimator, n_estimators=50, learning_rate=0.1, algorithm='SAMME')\n",
    "\n",
    "# Fit the model to the resampled training data\n",
    "best_model.fit(X_train_res, y_train_res)\n",
    "\n",
    "# Get feature importances\n",
    "importances = best_model.feature_importances_\n",
    "\n",
    "# Convert the importances into a one-dimensional 1darray with corresponding df column names as axis labels\n",
    "f_importances = pd.Series(importances, X_train.columns)\n",
    "\n",
    "# Sort the array in descending order of the importances\n",
    "f_importances.sort_values(ascending=False, inplace=True)\n",
    "\n",
    "# Make the bar Plot from f_importances \n",
    "f_importances.plot(kind='bar', figsize=(12,8))\n",
    "plt.show()"
   ]
  },
  {
   "cell_type": "code",
   "execution_count": 15,
   "metadata": {},
   "outputs": [
    {
     "name": "stdout",
     "output_type": "stream",
     "text": [
      "        Sex    Pclass       Age     SibSp      Fare  Parch\n",
      "0  0.410071  0.280702  0.110251  0.106934  0.092042    0.0\n"
     ]
    }
   ],
   "source": [
    "# Convert the importances into a DataFrame with corresponding df column names as column labels\n",
    "f_importances = pd.DataFrame(importances.reshape(-1, len(importances)), columns=X_train.columns)\n",
    "\n",
    "# Sort the DataFrame in descending order of the importances\n",
    "f_importances = f_importances.sort_values(by=0, axis=1, ascending=False)\n",
    "\n",
    "print(f_importances)"
   ]
  },
  {
   "cell_type": "code",
   "execution_count": 16,
   "metadata": {},
   "outputs": [
    {
     "data": {
      "application/vnd.jupyter.widget-view+json": {
       "model_id": "6f3e125cedf5486fa36a92c509610d50",
       "version_major": 2,
       "version_minor": 0
      },
      "text/plain": [
       "  0%|          | 0/1098 [00:00<?, ?it/s]"
      ]
     },
     "metadata": {},
     "output_type": "display_data"
    },
    {
     "data": {
      "image/png": "[encoded data removed]",
      "text/plain": [
       "<Figure size 800x390 with 1 Axes>"
      ]
     },
     "metadata": {},
     "output_type": "display_data"
    }
   ],
   "source": [
    "# Use k-means to summarize the dataset\n",
    "kmeans_summary = shap.kmeans(X_train_res, 100)\n",
    "\n",
    "# Initialize a KernelExplainer\n",
    "explainer = shap.KernelExplainer(best_model.predict, kmeans_summary)\n",
    "\n",
    "# Compute SHAP values\n",
    "shap_values = explainer.shap_values(X_train_res)\n",
    "\n",
    "# Plot the SHAP values\n",
    "shap.summary_plot(shap_values, X_train_res, plot_type=\"bar\")"
   ]
  },
  {
   "cell_type": "code",
   "execution_count": 17,
   "metadata": {},
   "outputs": [
    {
     "data": {
      "image/png": "[encoded data removed]",
      "text/plain": [
       "<Figure size 800x390 with 2 Axes>"
      ]
     },
     "metadata": {},
     "output_type": "display_data"
    }
   ],
   "source": [
    "# Set the plot size\n",
    "plt.figure(figsize=(10, 7))\n",
    "\n",
    "# Plot the SHAP values with custom settings\n",
    "shap.summary_plot(shap_values, X_train_res, max_display=10, show=False)\n",
    "\n",
    "# Set the title\n",
    "plt.title('SHAP Summary Plot')\n",
    "\n",
    "# Set the x-label\n",
    "plt.xlabel('Mean Absolute SHAP Value')\n",
    "\n",
    "# Show the plot\n",
    "plt.show()"
   ]
  },
  {
   "cell_type": "markdown",
   "metadata": {},
   "source": [
    "# Model Retraining using the most important features."
   ]
  },
  {
   "cell_type": "code",
   "execution_count": 19,
   "metadata": {},
   "outputs": [],
   "source": [
    "# Selected features\n",
    "Features = ['Sex','Fare','Pclass','Age','SibSp']\n",
    "X_train = X_train[Features]\n",
    "X_test = X_test[Features]"
   ]
  },
  {
   "cell_type": "code",
   "execution_count": 20,
   "metadata": {},
   "outputs": [
    {
     "name": "stderr",
     "output_type": "stream",
     "text": [
      "`base_estimator` was renamed to `estimator` in version 1.2 and will be removed in 1.4.\n"
     ]
    },
    {
     "data": {
      "text/html": [
       "<style>#sk-container-id-1 {color: black;}#sk-container-id-1 pre{padding: 0;}#sk-container-id-1 div.sk-toggleable {background-color: white;}#sk-container-id-1 label.sk-toggleable__label {cursor: pointer;display: block;width: 100%;margin-bottom: 0;padding: 0.3em;box-sizing: border-box;text-align: center;}#sk-container-id-1 label.sk-toggleable__label-arrow:before {content: \"▸\";float: left;margin-right: 0.25em;color: #696969;}#sk-container-id-1 label.sk-toggleable__label-arrow:hover:before {color: black;}#sk-container-id-1 div.sk-estimator:hover label.sk-toggleable__label-arrow:before {color: black;}#sk-container-id-1 div.sk-toggleable__content {max-height: 0;max-width: 0;overflow: hidden;text-align: left;background-color: #f0f8ff;}#sk-container-id-1 div.sk-toggleable__content pre {margin: 0.2em;color: black;border-radius: 0.25em;background-color: #f0f8ff;}#sk-container-id-1 input.sk-toggleable__control:checked~div.sk-toggleable__content {max-height: 200px;max-width: 100%;overflow: auto;}#sk-container-id-1 input.sk-toggleable__control:checked~label.sk-toggleable__label-arrow:before {content: \"▾\";}#sk-container-id-1 div.sk-estimator input.sk-toggleable__control:checked~label.sk-toggleable__label {background-color: #d4ebff;}#sk-container-id-1 div.sk-label input.sk-toggleable__control:checked~label.sk-toggleable__label {background-color: #d4ebff;}#sk-container-id-1 input.sk-hidden--visually {border: 0;clip: rect(1px 1px 1px 1px);clip: rect(1px, 1px, 1px, 1px);height: 1px;margin: -1px;overflow: hidden;padding: 0;position: absolute;width: 1px;}#sk-container-id-1 div.sk-estimator {font-family: monospace;background-color: #f0f8ff;border: 1px dotted black;border-radius: 0.25em;box-sizing: border-box;margin-bottom: 0.5em;}#sk-container-id-1 div.sk-estimator:hover {background-color: #d4ebff;}#sk-container-id-1 div.sk-parallel-item::after {content: \"\";width: 100%;border-bottom: 1px solid gray;flex-grow: 1;}#sk-container-id-1 div.sk-label:hover label.sk-toggleable__label {background-color: #d4ebff;}#sk-container-id-1 div.sk-serial::before {content: \"\";position: absolute;border-left: 1px solid gray;box-sizing: border-box;top: 0;bottom: 0;left: 50%;z-index: 0;}#sk-container-id-1 div.sk-serial {display: flex;flex-direction: column;align-items: center;background-color: white;padding-right: 0.2em;padding-left: 0.2em;position: relative;}#sk-container-id-1 div.sk-item {position: relative;z-index: 1;}#sk-container-id-1 div.sk-parallel {display: flex;align-items: stretch;justify-content: center;background-color: white;position: relative;}#sk-container-id-1 div.sk-item::before, #sk-container-id-1 div.sk-parallel-item::before {content: \"\";position: absolute;border-left: 1px solid gray;box-sizing: border-box;top: 0;bottom: 0;left: 50%;z-index: -1;}#sk-container-id-1 div.sk-parallel-item {display: flex;flex-direction: column;z-index: 1;position: relative;background-color: white;}#sk-container-id-1 div.sk-parallel-item:first-child::after {align-self: flex-end;width: 50%;}#sk-container-id-1 div.sk-parallel-item:last-child::after {align-self: flex-start;width: 50%;}#sk-container-id-1 div.sk-parallel-item:only-child::after {width: 0;}#sk-container-id-1 div.sk-dashed-wrapped {border: 1px dashed gray;margin: 0 0.4em 0.5em 0.4em;box-sizing: border-box;padding-bottom: 0.4em;background-color: white;}#sk-container-id-1 div.sk-label label {font-family: monospace;font-weight: bold;display: inline-block;line-height: 1.2em;}#sk-container-id-1 div.sk-label-container {text-align: center;}#sk-container-id-1 div.sk-container {/* jupyter's `normalize.less` sets `[hidden] { display: none; }` but bootstrap.min.css set `[hidden] { display: none !important; }` so we also need the `!important` here to be able to override the default hidden behavior on the sphinx rendered scikit-learn.org. See: https://github.com/scikit-learn/scikit-learn/issues/21755 */display: inline-block !important;position: relative;}#sk-container-id-1 div.sk-text-repr-fallback {display: none;}</style><div id=\"sk-container-id-1\" class=\"sk-top-container\"><div class=\"sk-text-repr-fallback\"><pre>AdaBoostClassifier(algorithm=&#x27;SAMME&#x27;,\n",
       "                   base_estimator=DecisionTreeClassifier(max_depth=2),\n",
       "                   learning_rate=0.1)</pre><b>In a Jupyter environment, please rerun this cell to show the HTML representation or trust the notebook. <br />On GitHub, the HTML representation is unable to render, please try loading this page with nbviewer.org.</b></div><div class=\"sk-container\" hidden><div class=\"sk-item sk-dashed-wrapped\"><div class=\"sk-label-container\"><div class=\"sk-label sk-toggleable\"><input class=\"sk-toggleable__control sk-hidden--visually\" id=\"sk-estimator-id-1\" type=\"checkbox\" ><label for=\"sk-estimator-id-1\" class=\"sk-toggleable__label sk-toggleable__label-arrow\">AdaBoostClassifier</label><div class=\"sk-toggleable__content\"><pre>AdaBoostClassifier(algorithm=&#x27;SAMME&#x27;,\n",
       "                   base_estimator=DecisionTreeClassifier(max_depth=2),\n",
       "                   learning_rate=0.1)</pre></div></div></div><div class=\"sk-parallel\"><div class=\"sk-parallel-item\"><div class=\"sk-item\"><div class=\"sk-label-container\"><div class=\"sk-label sk-toggleable\"><input class=\"sk-toggleable__control sk-hidden--visually\" id=\"sk-estimator-id-2\" type=\"checkbox\" ><label for=\"sk-estimator-id-2\" class=\"sk-toggleable__label sk-toggleable__label-arrow\">base_estimator: DecisionTreeClassifier</label><div class=\"sk-toggleable__content\"><pre>DecisionTreeClassifier(max_depth=2)</pre></div></div></div><div class=\"sk-serial\"><div class=\"sk-item\"><div class=\"sk-estimator sk-toggleable\"><input class=\"sk-toggleable__control sk-hidden--visually\" id=\"sk-estimator-id-3\" type=\"checkbox\" ><label for=\"sk-estimator-id-3\" class=\"sk-toggleable__label sk-toggleable__label-arrow\">DecisionTreeClassifier</label><div class=\"sk-toggleable__content\"><pre>DecisionTreeClassifier(max_depth=2)</pre></div></div></div></div></div></div></div></div></div></div>"
      ],
      "text/plain": [
       "AdaBoostClassifier(algorithm='SAMME',\n",
       "                   base_estimator=DecisionTreeClassifier(max_depth=2),\n",
       "                   learning_rate=0.1)"
      ]
     },
     "execution_count": 20,
     "metadata": {},
     "output_type": "execute_result"
    }
   ],
   "source": [
    "# Initialize a SMOTE object\n",
    "smote = SMOTE(random_state=42)\n",
    "\n",
    "# Resample the training data\n",
    "X_train_res, y_train_res = smote.fit_resample(X_train, y_train)\n",
    "\n",
    "# Initialize a DecisionTreeClassifier as the base estimator\n",
    "base_estimator = DecisionTreeClassifier(max_depth=2)\n",
    "\n",
    "# Initialize an AdaBoost classifier\n",
    "best_model = AdaBoostClassifier(base_estimator=base_estimator, n_estimators=50, learning_rate=0.1, algorithm='SAMME')\n",
    "\n",
    "# Fit the model to the resampled training data\n",
    "best_model.fit(X_train_res, y_train_res)"
   ]
  },
  {
   "cell_type": "code",
   "execution_count": 21,
   "metadata": {},
   "outputs": [
    {
     "name": "stdout",
     "output_type": "stream",
     "text": [
      "F1 Score:  0.9581993569131834\n"
     ]
    }
   ],
   "source": [
    "# Make predictions on the test set\n",
    "y_pred = best_model.predict(X_test)\n",
    "\n",
    "# Compute the F1 score\n",
    "f1 = f1_score(y_test, y_pred)\n",
    "\n",
    "print('F1 Score: ', f1)"
   ]
  },
  {
   "cell_type": "markdown",
   "metadata": {},
   "source": [
    "The model Performance improved from 89.55% to 95.82% after reducing the feature number.\n",
    "\n",
    "Reasons why training a machine learning model with fewer features can improve model performance:\n",
    "\n",
    "1. Avoids overfitting: More features give the model more flexibility to fit the training data, including noise. This leads to overfitting, where the model performs well on the training data but worse on new unseen data. With fewer features, the model generalizes better.\n",
    "\n",
    "2. Reduces curse of dimensionality: More features increase the dimensionality of the data, exponentially increasing the volume of space that must be modeled. This can make it difficult for many machine learning algorithms to operate effectively without enormous training datasets. Fewer features mitigate this.\n",
    "\n",
    "3. Improves interpretability: Models with fewer features are easier for humans to intuitively understand and interpret. This is important for trust and practical application of machine learning.\n",
    "\n",
    "4. Decreases training time: Fewer features means less compute time needed for model training. This allows faster iteration and testing during development.\n",
    "\n",
    "5. Addresses irrelevant features: Typically many potential input features are irrelevant for predicting the target. Feature selection removes these irrelevant or partially redundant features to improve signal while reducing noise.\n",
    "\n",
    "In summary, reducing the set of features can significantly boost model performance by making model training and optimization more efficient, enhancing generalization, supporting interpretability, and focusing predictive signal on the most salient attributes. The tradeoff is thoroughly analyzing features to discard only irrelevant ones rather than indiscriminately reducing dimensionality."
   ]
  },
  {
   "cell_type": "code",
   "execution_count": 22,
   "metadata": {},
   "outputs": [],
   "source": [
    "# save the model to disk\n",
    "filename = 'finalized_model.sav'\n",
    "pickle.dump(best_model, open(filename, 'wb'))"
   ]
  },
  {
   "cell_type": "code",
   "execution_count": 23,
   "metadata": {},
   "outputs": [],
   "source": [
    "# load the saved model\n",
    "load_model = pickle.load(open('finalized_model.sav', 'rb'))"
   ]
  }
 ],
 "metadata": {
  "kernelspec": {
   "display_name": "base",
   "language": "python",
   "name": "python3"
  },
  "language_info": {
   "codemirror_mode": {
    "name": "ipython",
    "version": 3
   },
   "file_extension": ".py",
   "mimetype": "text/x-python",
   "name": "python",
   "nbconvert_exporter": "python",
   "pygments_lexer": "ipython3",
   "version": "3.9.18"
  }
 },
 "nbformat": 4,
 "nbformat_minor": 2
}
